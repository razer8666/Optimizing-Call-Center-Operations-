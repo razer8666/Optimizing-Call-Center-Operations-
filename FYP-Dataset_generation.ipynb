{
 "cells": [
  {
   "cell_type": "code",
   "execution_count": 27,
   "id": "8625768b-7f86-464f-bfe9-f7d8e304c188",
   "metadata": {},
   "outputs": [],
   "source": [
    "import pandas as pd\n",
    "import numpy as np\n",
    "from datetime import datetime, timedelta\n",
    "import random\n"
   ]
  },
  {
   "cell_type": "code",
   "execution_count": 29,
   "id": "40e8172d-f6d7-4741-92dc-a81f38e2d41d",
   "metadata": {},
   "outputs": [],
   "source": [
    "# Parameters\n",
    "N = 500  # number of calls\n",
    "arrival_rate = 1/5  # average 1 call every 5 minutes\n",
    "service_rate = 1/4  # average 1 service every 4 minutes\n",
    "MAX_QUEUE_LENGTH = 25"
   ]
  },
  {
   "cell_type": "code",
   "execution_count": 31,
   "id": "96e0507f-c9c2-4553-98de-3ad1ff6ec8c9",
   "metadata": {},
   "outputs": [],
   "source": [
    "# Agent setup\n",
    "AGENTS = [\"Agent 1\", \"Agent 2\", \"Agent 3\"]\n",
    "TOPICS = [\"Management\", \"IT issue\"]\n",
    "RESOLUTION_PROB = {\n",
    "    (\"Agent 1\", \"Management\"): 0.9,\n",
    "    (\"Agent 1\", \"IT issue\"): 0.5,\n",
    "    (\"Agent 2\", \"Management\"): 0.5,\n",
    "    (\"Agent 2\", \"IT issue\"): 0.9,\n",
    "    (\"Agent 3\", \"Management\"): 0.8,\n",
    "    (\"Agent 3\", \"IT issue\"): 0.8,\n",
    "}\n"
   ]
  },
  {
   "cell_type": "code",
   "execution_count": 33,
   "id": "0f4a22f9-526e-4d30-b880-cd9f23600856",
   "metadata": {},
   "outputs": [],
   "source": [
    "# Satisfaction function\n",
    "def satisfaction_score(resolved, speed_of_answer, talk_duration):\n",
    "    if not resolved:\n",
    "        return np.random.randint(1, 4)\n",
    "    elif speed_of_answer < 60 and talk_duration < 6:\n",
    "        return np.random.randint(7, 11)\n",
    "    elif speed_of_answer < 120:\n",
    "        return np.random.randint(4, 7)\n",
    "    else:\n",
    "        return np.random.randint(1, 4)\n"
   ]
  },
  {
   "cell_type": "code",
   "execution_count": 35,
   "id": "c7c5283f-3eae-4ad5-bf4a-e7bbec0ab414",
   "metadata": {},
   "outputs": [],
   "source": [
    "# Simulation\n",
    "data = []\n",
    "start_time = datetime.combine(datetime.today(), datetime.strptime(\"09:00\", \"%H:%M\").time())\n",
    "current_time = start_time\n",
    "queue = []\n",
    "active_agents = {agent: start_time for agent in AGENTS}\n",
    "\n",
    "for call_id in range(1, N + 1):\n",
    "    inter_arrival = np.random.exponential(1 / arrival_rate)\n",
    "    current_time += timedelta(minutes=inter_arrival)\n",
    "    date = current_time.date()\n",
    "    time = current_time.time()\n",
    "    topic = random.choice(TOPICS)\n",
    "\n",
    "    assigned = False\n",
    "    for agent in AGENTS:\n",
    "        if active_agents[agent] <= current_time:\n",
    "            # Assign call\n",
    "            service_time = np.random.exponential(1 / service_rate)\n",
    "            resolved_prob = RESOLUTION_PROB[(agent, topic)]\n",
    "            resolved = \"Y\" if random.random() < resolved_prob else \"N\"\n",
    "            speed_of_answer = random.randint(5, 120)\n",
    "            talk_duration = round(service_time, 2)\n",
    "            satisfaction = satisfaction_score(resolved == \"Y\", speed_of_answer, talk_duration)\n",
    "\n",
    "            data.append([\n",
    "                call_id,\n",
    "                agent,\n",
    "                date,\n",
    "                time,\n",
    "                topic,\n",
    "                \"Y\",\n",
    "                resolved,\n",
    "                speed_of_answer,\n",
    "                talk_duration,\n",
    "                satisfaction\n",
    "            ])\n",
    "            active_agents[agent] = current_time + timedelta(minutes=service_time)\n",
    "            assigned = True\n",
    "            break\n",
    "\n",
    "    if not assigned:\n",
    "        if len(queue) >= MAX_QUEUE_LENGTH:\n",
    "            data.append([\n",
    "                call_id,\n",
    "                \"\",\n",
    "                date,\n",
    "                time,\n",
    "                topic,\n",
    "                \"N\",\n",
    "                \"\",\n",
    "                \"\",\n",
    "                \"\",\n",
    "                \"\"\n",
    "            ])\n",
    "        else:\n",
    "            queue.append((call_id, topic, date, time))\n",
    "            data.append([\n",
    "                call_id,\n",
    "                \"\",\n",
    "                date,\n",
    "                time,\n",
    "                topic,\n",
    "                \"N\",\n",
    "                \"\",\n",
    "                \"\",\n",
    "                \"\",\n",
    "                \"\"\n",
    "            ])\n"
   ]
  },
  {
   "cell_type": "code",
   "execution_count": 37,
   "id": "954f9206-219a-4044-bfdf-7be6feb1e892",
   "metadata": {},
   "outputs": [],
   "source": [
    "# Create DataFrame\n",
    "columns = [\"Call ID\", \"Agent\", \"Date\", \"Time\", \"Topic\", \"Answered (Y/N)\",\n",
    "           \"Resolved (Y/N)\", \"Speed of answer\", \"Talk duration\", \"Satisfaction rating\"]\n",
    "\n",
    "df_simulated = pd.DataFrame(data, columns=columns)\n"
   ]
  },
  {
   "cell_type": "code",
   "execution_count": 39,
   "id": "6c42952b-32f7-4149-bfb5-98c7dfabebd6",
   "metadata": {},
   "outputs": [
    {
     "name": "stdout",
     "output_type": "stream",
     "text": [
      "   Call ID    Agent        Date             Time       Topic Answered (Y/N)  \\\n",
      "0        1  Agent 1  2025-04-19  09:00:35.854243    IT issue              Y   \n",
      "1        2  Agent 2  2025-04-19  09:04:21.340748    IT issue              Y   \n",
      "2        3  Agent 3  2025-04-19  09:04:59.905884    IT issue              Y   \n",
      "3        4  Agent 3  2025-04-19  09:06:12.614602  Management              Y   \n",
      "4        5  Agent 1  2025-04-19  09:10:24.060129  Management              Y   \n",
      "\n",
      "  Resolved (Y/N) Speed of answer Talk duration Satisfaction rating  \n",
      "0              N             106          8.43                   2  \n",
      "1              Y               8          2.64                  10  \n",
      "2              N              22          0.38                   1  \n",
      "3              Y              49         10.97                   6  \n",
      "4              Y              77          6.68                   5  \n"
     ]
    }
   ],
   "source": [
    "# Preview dataset\n",
    "print(df_simulated.head())\n",
    "\n",
    "# Optional: save to CSV\n",
    "df_simulated.to_csv(\"call_centre_simulated_data.csv\", index=False)"
   ]
  },
  {
   "cell_type": "code",
   "execution_count": null,
   "id": "6d77605b-404e-4001-9053-b27215964d94",
   "metadata": {},
   "outputs": [],
   "source": []
  }
 ],
 "metadata": {
  "kernelspec": {
   "display_name": "Python 3 (ipykernel)",
   "language": "python",
   "name": "python3"
  },
  "language_info": {
   "codemirror_mode": {
    "name": "ipython",
    "version": 3
   },
   "file_extension": ".py",
   "mimetype": "text/x-python",
   "name": "python",
   "nbconvert_exporter": "python",
   "pygments_lexer": "ipython3",
   "version": "3.11.7"
  }
 },
 "nbformat": 4,
 "nbformat_minor": 5
}
