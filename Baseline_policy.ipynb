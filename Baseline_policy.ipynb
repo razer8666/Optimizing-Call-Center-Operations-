{
 "cells": [
  {
   "cell_type": "code",
   "execution_count": 3,
   "id": "4e885d0c-c54f-42b7-a587-c05e6cd42611",
   "metadata": {},
   "outputs": [
    {
     "data": {
      "text/plain": [
       "'mdp_baseline_policy.csv'"
      ]
     },
     "execution_count": 3,
     "metadata": {},
     "output_type": "execute_result"
    }
   ],
   "source": [
    "import pandas as pd\n",
    "import numpy as np\n",
    "\n",
    "# Assume you have already loaded your simulated dataset\n",
    "# For now, I'll generate a dummy simulated dataset similar to what you had\n",
    "\n",
    "# Example dummy data structure similar to what you generated earlier\n",
    "np.random.seed(42)\n",
    "N = 500\n",
    "simulated_df = pd.DataFrame({\n",
    "    \"Call ID\": range(1, N+1),\n",
    "    \"Topic\": np.random.choice([\"Management\", \"IT Issue\"], size=N, p=[0.5, 0.5]),\n",
    "    \"Agent 1 Available\": np.random.choice([0, 1], size=N, p=[0.3, 0.7]),\n",
    "    \"Agent 2 Available\": np.random.choice([0, 1], size=N, p=[0.3, 0.7]),\n",
    "    \"Agent 3 Available\": np.random.choice([0, 1], size=N, p=[0.2, 0.8]),\n",
    "})\n",
    "\n",
    "# Define baseline policy assignment\n",
    "def baseline_policy(row):\n",
    "    if row[\"Topic\"] == \"Management\":\n",
    "        if row[\"Agent 1 Available\"] == 1:\n",
    "            return 0  # Assign Agent 1\n",
    "        elif row[\"Agent 3 Available\"] == 1:\n",
    "            return 2  # Assign Agent 3\n",
    "        elif row[\"Agent 2 Available\"] == 1:\n",
    "            return 1  # Assign Agent 2\n",
    "        else:\n",
    "            return 3  # No Assignment\n",
    "    else:  # IT Issue\n",
    "        if row[\"Agent 2 Available\"] == 1:\n",
    "            return 1  # Assign Agent 2\n",
    "        elif row[\"Agent 3 Available\"] == 1:\n",
    "            return 2  # Assign Agent 3\n",
    "        elif row[\"Agent 1 Available\"] == 1:\n",
    "            return 0  # Assign Agent 1\n",
    "        else:\n",
    "            return 3  # No Assignment\n",
    "\n",
    "# Apply the policy\n",
    "simulated_df[\"Action\"] = simulated_df.apply(baseline_policy, axis=1)\n",
    "\n",
    "# Simulate some results (for example purpose)\n",
    "simulated_df[\"Resolved\"] = np.where(simulated_df[\"Action\"] != 3, np.random.choice([1, 0], size=N, p=[0.8, 0.2]), 0)\n",
    "simulated_df[\"Reward\"] = np.where(simulated_df[\"Action\"] != 3, 10*simulated_df[\"Resolved\"] - 5*(1-simulated_df[\"Resolved\"]), -10)\n",
    "simulated_df[\"Satisfaction\"] = np.where(simulated_df[\"Resolved\"] == 1, np.random.randint(7, 11, size=N), np.random.randint(1, 7, size=N))\n",
    "simulated_df[\"Wait Time (min)\"] = np.where(simulated_df[\"Action\"] == 3, np.random.uniform(2, 5, size=N), np.random.uniform(0, 2, size=N))\n",
    "\n",
    "# Save to CSV\n",
    "baseline_policy_path = 'mdp_baseline_policy.csv'\n",
    "simulated_df.to_csv(baseline_policy_path, index=False)\n",
    "\n",
    "baseline_policy_path\n"
   ]
  },
  {
   "cell_type": "code",
   "execution_count": null,
   "id": "0b5da15a-2fe2-4811-99e1-98d55f5afe43",
   "metadata": {},
   "outputs": [],
   "source": []
  }
 ],
 "metadata": {
  "kernelspec": {
   "display_name": "Python 3 (ipykernel)",
   "language": "python",
   "name": "python3"
  },
  "language_info": {
   "codemirror_mode": {
    "name": "ipython",
    "version": 3
   },
   "file_extension": ".py",
   "mimetype": "text/x-python",
   "name": "python",
   "nbconvert_exporter": "python",
   "pygments_lexer": "ipython3",
   "version": "3.11.7"
  }
 },
 "nbformat": 4,
 "nbformat_minor": 5
}
